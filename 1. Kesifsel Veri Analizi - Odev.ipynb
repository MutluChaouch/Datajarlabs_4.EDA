{
 "cells": [
  {
   "cell_type": "markdown",
   "metadata": {},
   "source": [
    "## 4.1. Kesifsel Veri Analizi Nedir? - Odev"
   ]
  },
  {
   "cell_type": "code",
   "execution_count": null,
   "metadata": {},
   "outputs": [],
   "source": [
    "# Keşifsel Veri Analizinin amacı nedir?\n",
    "\n",
    "Kesifsel veri analizinin amaci, nihai hedefimize ulasmak uzere yaptigimiz analizlerin dogruluguna destek saglamaktir. \n",
    "veriyi anlamamiz ve kesfetmemiz icin gerekli olan bir surectir. Bu surec icerisinde veri icindeki sorunlari  \n",
    "belirleyip, bunlari ortadan kaldirmamiz ve boylece temiz ve anlamli bir veri seti ile ilermemize yardimci olur.\n"
   ]
  },
  {
   "cell_type": "code",
   "execution_count": null,
   "metadata": {},
   "outputs": [],
   "source": [
    "# Bir e-ticaret şirketinin ürünlerine ait müşteri yorumlarını içeren bir veri kümesi üzerinde çalıştığınızı farz edin.\n",
    "# Şirketin web sitesi aracılığıyla toplanan müşteri yorumları içeriğinin olumlu ya da olumsuz olmasına göre \n",
    "# 1 ila 5 arasında derecelendirilmiştir.\n",
    "\n",
    "# a. Bu ham veride ne tür problemlerle karşılaşmayı beklersiniz?\n",
    "Eger musteri yorumlarina gore puanlama belirlenecek ise, yorumlarda kullanilan olumlu ya da olumsuz kelimelerin, \n",
    "imla/yazim hatalarinin puanlamaya yanlis etkileri olabilir. \n",
    "\n",
    "# b. Göreviniz müşterilerin yorumlarının olumlu yada olumsuz olduğunu ortaya çıkaran özellikleri belirlemek olsaydı \n",
    "# nasıl bir yaplaşımda bulunur ve bunun için hangi metodları kullanırdınız?\n",
    "Oncelikle olumlu ve olumsuz kelimelerden olusan bir liste olustururdum. Sadece kelime kelime degil kelime obeklerini\n",
    "de degerlendirmekte fayda var. Sonucta puanlama 1-5 arasinda olacagi icin hazirlanan listenin de kendi icinde\n",
    "puanlanmasi gerekir. \n",
    "\n",
    "# c. Ham veriden çıkarılabilecek yararlı özelliklerin neler olabilir? Bu verilere nasıl ulaşılabilirsiniz ve \n",
    "# bunların faydalı olup olmayacağını nasıl anlayabilirsiniz?\n",
    "Belirli konular icin (mesela urundeki teknik hata, teslimat, kullanici hatasi, uretim hatasi, vb) en sik kullanilan\n",
    "kelimeler/kelime gruplari belirlenip, musterilerin hangi konulardan bahsettiklerini daha kolay bir sekilde belirleyebliriz.\n",
    "Musterilere ait bilgiler elimizde mevcutsa, musteri gruplarina gore yorumlarda degisiklik olup olmadigina bakabiliriz."
   ]
  }
 ],
 "metadata": {
  "kernelspec": {
   "display_name": "Python 3",
   "language": "python",
   "name": "python3"
  },
  "language_info": {
   "codemirror_mode": {
    "name": "ipython",
    "version": 3
   },
   "file_extension": ".py",
   "mimetype": "text/x-python",
   "name": "python",
   "nbconvert_exporter": "python",
   "pygments_lexer": "ipython3",
   "version": "3.7.3"
  }
 },
 "nbformat": 4,
 "nbformat_minor": 2
}
