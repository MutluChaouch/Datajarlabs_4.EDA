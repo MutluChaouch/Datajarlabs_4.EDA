{
 "cells": [
  {
   "cell_type": "markdown",
   "metadata": {},
   "source": [
    "## 4.2. Veri Temizligi: 1. Veri Turleri - Odev"
   ]
  },
  {
   "cell_type": "code",
   "execution_count": null,
   "metadata": {},
   "outputs": [],
   "source": [
    "# 1. Rank değişkenini kategorik olarak değerlendirmenin avantaj ve dezavantajlarını göz önünde bulundurun. \n",
    "Siralama yapmamiz ve gruplamamiz kolaylasir.\n",
    "\n",
    "# 2. Aşağıdaki değişkenlerin türlerini belirleyin:\n",
    "Yaş - Surekli degisen, oran degiskenleri, integer\n",
    "Maaş - Surekli degisen, oran degiskenleri, float\n",
    "Gelir - Surekli degisen, oran degiskenleri, float\n",
    "Müşteri türü - Kategorik degisen, nominal, string\n",
    "Hisse senedi fiyatı - Surekli degisen, oran degiskenleri, float"
   ]
  }
 ],
 "metadata": {
  "kernelspec": {
   "display_name": "Python 3",
   "language": "python",
   "name": "python3"
  },
  "language_info": {
   "codemirror_mode": {
    "name": "ipython",
    "version": 3
   },
   "file_extension": ".py",
   "mimetype": "text/x-python",
   "name": "python",
   "nbconvert_exporter": "python",
   "pygments_lexer": "ipython3",
   "version": "3.7.3"
  }
 },
 "nbformat": 4,
 "nbformat_minor": 2
}
